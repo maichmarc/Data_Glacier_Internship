{
 "cells": [
  {
   "cell_type": "code",
   "execution_count": 1,
   "metadata": {},
   "outputs": [],
   "source": [
    "import pandas as pd\n",
    "import dask.dataframe as dd\n",
    "import time\n",
    "import yaml"
   ]
  },
  {
   "cell_type": "code",
   "execution_count": 2,
   "metadata": {},
   "outputs": [],
   "source": [
    "path = '/Users/home/Medium_Trans.csv'"
   ]
  },
  {
   "cell_type": "code",
   "execution_count": 3,
   "metadata": {},
   "outputs": [
    {
     "name": "stdout",
     "output_type": "stream",
     "text": [
      "Pandas took 86.02287101745605 to read.\n"
     ]
    }
   ],
   "source": [
    "panda_start = time.time()\n",
    "panda_data = pd.read_csv(path)\n",
    "panda_end = time.time()\n",
    "panda_time = panda_end - panda_start\n",
    "print(f'Pandas took {panda_time} to read.')"
   ]
  },
  {
   "cell_type": "code",
   "execution_count": 4,
   "metadata": {},
   "outputs": [
    {
     "name": "stdout",
     "output_type": "stream",
     "text": [
      "Pandas took 0.2665121555328369 to read.\n"
     ]
    }
   ],
   "source": [
    "dask_start = time.time()\n",
    "dask_data = dd.read_csv(path)\n",
    "dask_end = time.time()\n",
    "dask_time = dask_end - dask_start\n",
    "print(f'Pandas took {dask_time} to read.')"
   ]
  },
  {
   "cell_type": "code",
   "execution_count": 5,
   "metadata": {},
   "outputs": [
    {
     "data": {
      "text/html": [
       "<div>\n",
       "<style scoped>\n",
       "    .dataframe tbody tr th:only-of-type {\n",
       "        vertical-align: middle;\n",
       "    }\n",
       "\n",
       "    .dataframe tbody tr th {\n",
       "        vertical-align: top;\n",
       "    }\n",
       "\n",
       "    .dataframe thead th {\n",
       "        text-align: right;\n",
       "    }\n",
       "</style>\n",
       "<table border=\"1\" class=\"dataframe\">\n",
       "  <thead>\n",
       "    <tr style=\"text-align: right;\">\n",
       "      <th></th>\n",
       "      <th>Timestamp</th>\n",
       "      <th>From Bank</th>\n",
       "      <th>Account</th>\n",
       "      <th>To Bank</th>\n",
       "      <th>Account.1</th>\n",
       "      <th>Amount Received</th>\n",
       "      <th>Receiving Currency</th>\n",
       "      <th>Amount Paid</th>\n",
       "      <th>Payment Currency</th>\n",
       "      <th>Payment Format</th>\n",
       "      <th>Is Laundering</th>\n",
       "    </tr>\n",
       "  </thead>\n",
       "  <tbody>\n",
       "    <tr>\n",
       "      <th>0</th>\n",
       "      <td>2022/09/01 00:15</td>\n",
       "      <td>20</td>\n",
       "      <td>800104D70</td>\n",
       "      <td>20</td>\n",
       "      <td>800104D70</td>\n",
       "      <td>8095.07</td>\n",
       "      <td>US Dollar</td>\n",
       "      <td>8095.07</td>\n",
       "      <td>US Dollar</td>\n",
       "      <td>Reinvestment</td>\n",
       "      <td>0</td>\n",
       "    </tr>\n",
       "    <tr>\n",
       "      <th>1</th>\n",
       "      <td>2022/09/01 00:18</td>\n",
       "      <td>3196</td>\n",
       "      <td>800107150</td>\n",
       "      <td>3196</td>\n",
       "      <td>800107150</td>\n",
       "      <td>7739.29</td>\n",
       "      <td>US Dollar</td>\n",
       "      <td>7739.29</td>\n",
       "      <td>US Dollar</td>\n",
       "      <td>Reinvestment</td>\n",
       "      <td>0</td>\n",
       "    </tr>\n",
       "    <tr>\n",
       "      <th>2</th>\n",
       "      <td>2022/09/01 00:23</td>\n",
       "      <td>1208</td>\n",
       "      <td>80010E430</td>\n",
       "      <td>1208</td>\n",
       "      <td>80010E430</td>\n",
       "      <td>2654.22</td>\n",
       "      <td>US Dollar</td>\n",
       "      <td>2654.22</td>\n",
       "      <td>US Dollar</td>\n",
       "      <td>Reinvestment</td>\n",
       "      <td>0</td>\n",
       "    </tr>\n",
       "    <tr>\n",
       "      <th>3</th>\n",
       "      <td>2022/09/01 00:19</td>\n",
       "      <td>3203</td>\n",
       "      <td>80010EA80</td>\n",
       "      <td>3203</td>\n",
       "      <td>80010EA80</td>\n",
       "      <td>13284.41</td>\n",
       "      <td>US Dollar</td>\n",
       "      <td>13284.41</td>\n",
       "      <td>US Dollar</td>\n",
       "      <td>Reinvestment</td>\n",
       "      <td>0</td>\n",
       "    </tr>\n",
       "    <tr>\n",
       "      <th>4</th>\n",
       "      <td>2022/09/01 00:27</td>\n",
       "      <td>20</td>\n",
       "      <td>800104D20</td>\n",
       "      <td>20</td>\n",
       "      <td>800104D20</td>\n",
       "      <td>9.72</td>\n",
       "      <td>US Dollar</td>\n",
       "      <td>9.72</td>\n",
       "      <td>US Dollar</td>\n",
       "      <td>Reinvestment</td>\n",
       "      <td>0</td>\n",
       "    </tr>\n",
       "  </tbody>\n",
       "</table>\n",
       "</div>"
      ],
      "text/plain": [
       "          Timestamp  From Bank    Account  To Bank  Account.1  \\\n",
       "0  2022/09/01 00:15         20  800104D70       20  800104D70   \n",
       "1  2022/09/01 00:18       3196  800107150     3196  800107150   \n",
       "2  2022/09/01 00:23       1208  80010E430     1208  80010E430   \n",
       "3  2022/09/01 00:19       3203  80010EA80     3203  80010EA80   \n",
       "4  2022/09/01 00:27         20  800104D20       20  800104D20   \n",
       "\n",
       "   Amount Received Receiving Currency  Amount Paid Payment Currency  \\\n",
       "0          8095.07          US Dollar      8095.07        US Dollar   \n",
       "1          7739.29          US Dollar      7739.29        US Dollar   \n",
       "2          2654.22          US Dollar      2654.22        US Dollar   \n",
       "3         13284.41          US Dollar     13284.41        US Dollar   \n",
       "4             9.72          US Dollar         9.72        US Dollar   \n",
       "\n",
       "  Payment Format  Is Laundering  \n",
       "0   Reinvestment              0  \n",
       "1   Reinvestment              0  \n",
       "2   Reinvestment              0  \n",
       "3   Reinvestment              0  \n",
       "4   Reinvestment              0  "
      ]
     },
     "execution_count": 5,
     "metadata": {},
     "output_type": "execute_result"
    }
   ],
   "source": [
    "panda_data.head()"
   ]
  },
  {
   "cell_type": "code",
   "execution_count": 6,
   "metadata": {},
   "outputs": [
    {
     "data": {
      "text/html": [
       "<div>\n",
       "<style scoped>\n",
       "    .dataframe tbody tr th:only-of-type {\n",
       "        vertical-align: middle;\n",
       "    }\n",
       "\n",
       "    .dataframe tbody tr th {\n",
       "        vertical-align: top;\n",
       "    }\n",
       "\n",
       "    .dataframe thead th {\n",
       "        text-align: right;\n",
       "    }\n",
       "</style>\n",
       "<table border=\"1\" class=\"dataframe\">\n",
       "  <thead>\n",
       "    <tr style=\"text-align: right;\">\n",
       "      <th></th>\n",
       "      <th>Timestamp</th>\n",
       "      <th>From Bank</th>\n",
       "      <th>Account</th>\n",
       "      <th>To Bank</th>\n",
       "      <th>Account.1</th>\n",
       "      <th>Amount Received</th>\n",
       "      <th>Receiving Currency</th>\n",
       "      <th>Amount Paid</th>\n",
       "      <th>Payment Currency</th>\n",
       "      <th>Payment Format</th>\n",
       "      <th>Is Laundering</th>\n",
       "    </tr>\n",
       "  </thead>\n",
       "  <tbody>\n",
       "    <tr>\n",
       "      <th>0</th>\n",
       "      <td>2022/09/01 00:15</td>\n",
       "      <td>20</td>\n",
       "      <td>800104D70</td>\n",
       "      <td>20</td>\n",
       "      <td>800104D70</td>\n",
       "      <td>8095.07</td>\n",
       "      <td>US Dollar</td>\n",
       "      <td>8095.07</td>\n",
       "      <td>US Dollar</td>\n",
       "      <td>Reinvestment</td>\n",
       "      <td>0</td>\n",
       "    </tr>\n",
       "    <tr>\n",
       "      <th>1</th>\n",
       "      <td>2022/09/01 00:18</td>\n",
       "      <td>3196</td>\n",
       "      <td>800107150</td>\n",
       "      <td>3196</td>\n",
       "      <td>800107150</td>\n",
       "      <td>7739.29</td>\n",
       "      <td>US Dollar</td>\n",
       "      <td>7739.29</td>\n",
       "      <td>US Dollar</td>\n",
       "      <td>Reinvestment</td>\n",
       "      <td>0</td>\n",
       "    </tr>\n",
       "    <tr>\n",
       "      <th>2</th>\n",
       "      <td>2022/09/01 00:23</td>\n",
       "      <td>1208</td>\n",
       "      <td>80010E430</td>\n",
       "      <td>1208</td>\n",
       "      <td>80010E430</td>\n",
       "      <td>2654.22</td>\n",
       "      <td>US Dollar</td>\n",
       "      <td>2654.22</td>\n",
       "      <td>US Dollar</td>\n",
       "      <td>Reinvestment</td>\n",
       "      <td>0</td>\n",
       "    </tr>\n",
       "    <tr>\n",
       "      <th>3</th>\n",
       "      <td>2022/09/01 00:19</td>\n",
       "      <td>3203</td>\n",
       "      <td>80010EA80</td>\n",
       "      <td>3203</td>\n",
       "      <td>80010EA80</td>\n",
       "      <td>13284.41</td>\n",
       "      <td>US Dollar</td>\n",
       "      <td>13284.41</td>\n",
       "      <td>US Dollar</td>\n",
       "      <td>Reinvestment</td>\n",
       "      <td>0</td>\n",
       "    </tr>\n",
       "    <tr>\n",
       "      <th>4</th>\n",
       "      <td>2022/09/01 00:27</td>\n",
       "      <td>20</td>\n",
       "      <td>800104D20</td>\n",
       "      <td>20</td>\n",
       "      <td>800104D20</td>\n",
       "      <td>9.72</td>\n",
       "      <td>US Dollar</td>\n",
       "      <td>9.72</td>\n",
       "      <td>US Dollar</td>\n",
       "      <td>Reinvestment</td>\n",
       "      <td>0</td>\n",
       "    </tr>\n",
       "  </tbody>\n",
       "</table>\n",
       "</div>"
      ],
      "text/plain": [
       "          Timestamp  From Bank    Account  To Bank  Account.1  \\\n",
       "0  2022/09/01 00:15         20  800104D70       20  800104D70   \n",
       "1  2022/09/01 00:18       3196  800107150     3196  800107150   \n",
       "2  2022/09/01 00:23       1208  80010E430     1208  80010E430   \n",
       "3  2022/09/01 00:19       3203  80010EA80     3203  80010EA80   \n",
       "4  2022/09/01 00:27         20  800104D20       20  800104D20   \n",
       "\n",
       "   Amount Received Receiving Currency  Amount Paid Payment Currency  \\\n",
       "0          8095.07          US Dollar      8095.07        US Dollar   \n",
       "1          7739.29          US Dollar      7739.29        US Dollar   \n",
       "2          2654.22          US Dollar      2654.22        US Dollar   \n",
       "3         13284.41          US Dollar     13284.41        US Dollar   \n",
       "4             9.72          US Dollar         9.72        US Dollar   \n",
       "\n",
       "  Payment Format  Is Laundering  \n",
       "0   Reinvestment              0  \n",
       "1   Reinvestment              0  \n",
       "2   Reinvestment              0  \n",
       "3   Reinvestment              0  \n",
       "4   Reinvestment              0  "
      ]
     },
     "execution_count": 6,
     "metadata": {},
     "output_type": "execute_result"
    }
   ],
   "source": [
    "dask_data.head()"
   ]
  },
  {
   "cell_type": "code",
   "execution_count": 7,
   "metadata": {},
   "outputs": [
    {
     "data": {
      "text/plain": [
       "Index(['Timestamp', 'From Bank', 'Account', 'To Bank', 'Account.1',\n",
       "       'Amount Received', 'Receiving Currency', 'Amount Paid',\n",
       "       'Payment Currency', 'Payment Format', 'Is Laundering'],\n",
       "      dtype='object')"
      ]
     },
     "execution_count": 7,
     "metadata": {},
     "output_type": "execute_result"
    }
   ],
   "source": [
    "panda_data.columns"
   ]
  },
  {
   "cell_type": "code",
   "execution_count": 8,
   "metadata": {},
   "outputs": [
    {
     "data": {
      "text/plain": [
       "Index(['Timestamp', 'From Bank', 'Account', 'To Bank', 'Account.1',\n",
       "       'Amount Received', 'Receiving Currency', 'Amount Paid',\n",
       "       'Payment Currency', 'Payment Format', 'Is Laundering'],\n",
       "      dtype='object')"
      ]
     },
     "execution_count": 8,
     "metadata": {},
     "output_type": "execute_result"
    }
   ],
   "source": [
    "dask_data.columns"
   ]
  },
  {
   "cell_type": "code",
   "execution_count": 9,
   "metadata": {},
   "outputs": [
    {
     "name": "stdout",
     "output_type": "stream",
     "text": [
      "Overwriting utility.py\n"
     ]
    }
   ],
   "source": [
    "%%writefile utility.py\n",
    "\n",
    "import yaml\n",
    "import pandas as od\n",
    "import re\n",
    "import dask.dataframe as dd\n",
    "import logging\n",
    "\n",
    "\n",
    "\n",
    "def read_config_file(a_file):\n",
    "    with open(a_file, 'r') as stream:\n",
    "        try:\n",
    "            return yaml.safe_load(stream) \n",
    "        except yaml.YAMLError as exc:\n",
    "            logging.error(exc)\n",
    "\n",
    "\n",
    "def replacer(string, char):\n",
    "    pattern = char + '{2,}'\n",
    "    string = re.sub(pattern, char, string) \n",
    "    return string\n",
    "\n",
    "def col_header_val(df,table_config):\n",
    "    '''\n",
    "    replace whitespaces in the column\n",
    "    and standardized column names\n",
    "    '''\n",
    "    df.columns = df.columns.str.lower()\n",
    "    df.columns = df.columns.str.replace('[^\\w]','_',regex=True)\n",
    "    df.columns = list(map(lambda x: x.strip('_'), list(df.columns)))\n",
    "    df.columns = list(map(lambda x: replacer(x,'_'), list(df.columns)))\n",
    "    expected_col = list(map(lambda x: x.lower(),  table_config['columns']))\n",
    "#     expected_col.sort()\n",
    "    df.columns =list(map(lambda x: x.lower(), list(df.columns)))\n",
    "#     df = df.reindex(sorted(df.columns), axis=1)\n",
    "    if len(df.columns) == len(expected_col) and list(expected_col)  == list(df.columns):\n",
    "        print(\"column name and column length validation passed\")\n",
    "        return 1\n",
    "    else:\n",
    "        print(\"column name and column length validation failed\")\n",
    "        mismatched_columns_file = list(set(df.columns).difference(expected_col))\n",
    "        print(\"Following File columns are not in the YAML file\",mismatched_columns_file)\n",
    "        missing_YAML_file = list(set(expected_col).difference(df.columns))\n",
    "        print(\"Following YAML columns are not in the file uploaded\",missing_YAML_file)\n",
    "        logging.info(f'df columns: {df.columns}')\n",
    "        logging.info(f'expected columns: {expected_col}')\n",
    "        return 0"
   ]
  },
  {
   "cell_type": "code",
   "execution_count": 10,
   "metadata": {},
   "outputs": [
    {
     "name": "stdout",
     "output_type": "stream",
     "text": [
      "Overwriting file.yaml\n"
     ]
    }
   ],
   "source": [
    "%%writefile file.yaml\n",
    "\n",
    "file_type: csv\n",
    "dataset_name: file\n",
    "file_name: Medium_Trans\n",
    "table_name: edsurv\n",
    "inbound_delimiter: \",\"\n",
    "outbound_delimiter: \"|\"\n",
    "skip_leading_rows: 1\n",
    "columns: \n",
    "   - timestamp\n",
    "   - from_Bank\n",
    "   - account\n",
    "   - to_bank\n",
    "   - account_1\n",
    "   - amount_received\n",
    "   - receiving_currency\n",
    "   - amount_paid\n",
    "   - payment_currency\n",
    "   - payment_format\n",
    "   - is_laundering\n",
    "     "
   ]
  },
  {
   "cell_type": "code",
   "execution_count": 11,
   "metadata": {},
   "outputs": [],
   "source": [
    "import utility as util"
   ]
  },
  {
   "cell_type": "code",
   "execution_count": 12,
   "metadata": {},
   "outputs": [
    {
     "data": {
      "text/plain": [
       "{'file_type': 'csv',\n",
       " 'dataset_name': 'file',\n",
       " 'file_name': 'Medium_Trans',\n",
       " 'table_name': 'edsurv',\n",
       " 'inbound_delimiter': ',',\n",
       " 'outbound_delimiter': '|',\n",
       " 'skip_leading_rows': 1,\n",
       " 'columns': ['timestamp',\n",
       "  'from_Bank',\n",
       "  'account',\n",
       "  'to_bank',\n",
       "  'account_1',\n",
       "  'amount_received',\n",
       "  'receiving_currency',\n",
       "  'amount_paid',\n",
       "  'payment_currency',\n",
       "  'payment_format',\n",
       "  'is_laundering']}"
      ]
     },
     "execution_count": 12,
     "metadata": {},
     "output_type": "execute_result"
    }
   ],
   "source": [
    "config_data = util.read_config_file('file.yaml')\n",
    "config_data"
   ]
  },
  {
   "cell_type": "code",
   "execution_count": 13,
   "metadata": {},
   "outputs": [
    {
     "data": {
      "text/plain": [
       "'Medium_Trans'"
      ]
     },
     "execution_count": 13,
     "metadata": {},
     "output_type": "execute_result"
    }
   ],
   "source": [
    "f_name = config_data['file_name']\n",
    "f_name"
   ]
  },
  {
   "cell_type": "code",
   "execution_count": 14,
   "metadata": {},
   "outputs": [
    {
     "data": {
      "text/plain": [
       "'csv'"
      ]
     },
     "execution_count": 14,
     "metadata": {},
     "output_type": "execute_result"
    }
   ],
   "source": [
    "f_type = config_data['file_type']\n",
    "f_type"
   ]
  },
  {
   "cell_type": "code",
   "execution_count": 15,
   "metadata": {},
   "outputs": [
    {
     "data": {
      "text/plain": [
       "','"
      ]
     },
     "execution_count": 15,
     "metadata": {},
     "output_type": "execute_result"
    }
   ],
   "source": [
    "f_delim = config_data['inbound_delimiter']\n",
    "f_delim"
   ]
  },
  {
   "cell_type": "code",
   "execution_count": null,
   "metadata": {},
   "outputs": [],
   "source": []
  },
  {
   "cell_type": "code",
   "execution_count": 16,
   "metadata": {},
   "outputs": [
    {
     "data": {
      "text/html": [
       "<div>\n",
       "<style scoped>\n",
       "    .dataframe tbody tr th:only-of-type {\n",
       "        vertical-align: middle;\n",
       "    }\n",
       "\n",
       "    .dataframe tbody tr th {\n",
       "        vertical-align: top;\n",
       "    }\n",
       "\n",
       "    .dataframe thead th {\n",
       "        text-align: right;\n",
       "    }\n",
       "</style>\n",
       "<table border=\"1\" class=\"dataframe\">\n",
       "  <thead>\n",
       "    <tr style=\"text-align: right;\">\n",
       "      <th></th>\n",
       "      <th>Timestamp</th>\n",
       "      <th>From Bank</th>\n",
       "      <th>Account</th>\n",
       "      <th>To Bank</th>\n",
       "      <th>Account.1</th>\n",
       "      <th>Amount Received</th>\n",
       "      <th>Receiving Currency</th>\n",
       "      <th>Amount Paid</th>\n",
       "      <th>Payment Currency</th>\n",
       "      <th>Payment Format</th>\n",
       "      <th>Is Laundering</th>\n",
       "    </tr>\n",
       "  </thead>\n",
       "  <tbody>\n",
       "    <tr>\n",
       "      <th>341574</th>\n",
       "      <td>2022/09/16 23:46</td>\n",
       "      <td>1216195</td>\n",
       "      <td>84FDBD5D1</td>\n",
       "      <td>2213357</td>\n",
       "      <td>850556A01</td>\n",
       "      <td>0.992614</td>\n",
       "      <td>Bitcoin</td>\n",
       "      <td>0.992614</td>\n",
       "      <td>Bitcoin</td>\n",
       "      <td>Bitcoin</td>\n",
       "      <td>0</td>\n",
       "    </tr>\n",
       "    <tr>\n",
       "      <th>341575</th>\n",
       "      <td>2022/09/16 23:43</td>\n",
       "      <td>1216195</td>\n",
       "      <td>84FDBD5D1</td>\n",
       "      <td>2213357</td>\n",
       "      <td>850556A01</td>\n",
       "      <td>1.962109</td>\n",
       "      <td>Bitcoin</td>\n",
       "      <td>1.962109</td>\n",
       "      <td>Bitcoin</td>\n",
       "      <td>Bitcoin</td>\n",
       "      <td>0</td>\n",
       "    </tr>\n",
       "    <tr>\n",
       "      <th>341576</th>\n",
       "      <td>2022/09/16 23:31</td>\n",
       "      <td>1216195</td>\n",
       "      <td>84FDBD5D1</td>\n",
       "      <td>2213357</td>\n",
       "      <td>850556A01</td>\n",
       "      <td>0.149850</td>\n",
       "      <td>Bitcoin</td>\n",
       "      <td>0.149850</td>\n",
       "      <td>Bitcoin</td>\n",
       "      <td>Bitcoin</td>\n",
       "      <td>0</td>\n",
       "    </tr>\n",
       "    <tr>\n",
       "      <th>341577</th>\n",
       "      <td>2022/09/16 23:57</td>\n",
       "      <td>1216195</td>\n",
       "      <td>84FDBD5D1</td>\n",
       "      <td>2213357</td>\n",
       "      <td>850556A01</td>\n",
       "      <td>0.025608</td>\n",
       "      <td>Bitcoin</td>\n",
       "      <td>0.025608</td>\n",
       "      <td>Bitcoin</td>\n",
       "      <td>Bitcoin</td>\n",
       "      <td>0</td>\n",
       "    </tr>\n",
       "    <tr>\n",
       "      <th>341578</th>\n",
       "      <td>2022/09/16 23:57</td>\n",
       "      <td>3212631</td>\n",
       "      <td>85057D081</td>\n",
       "      <td>2211696</td>\n",
       "      <td>85057E351</td>\n",
       "      <td>0.019455</td>\n",
       "      <td>Bitcoin</td>\n",
       "      <td>0.019455</td>\n",
       "      <td>Bitcoin</td>\n",
       "      <td>Bitcoin</td>\n",
       "      <td>0</td>\n",
       "    </tr>\n",
       "  </tbody>\n",
       "</table>\n",
       "</div>"
      ],
      "text/plain": [
       "               Timestamp  From Bank    Account  To Bank  Account.1  \\\n",
       "341574  2022/09/16 23:46    1216195  84FDBD5D1  2213357  850556A01   \n",
       "341575  2022/09/16 23:43    1216195  84FDBD5D1  2213357  850556A01   \n",
       "341576  2022/09/16 23:31    1216195  84FDBD5D1  2213357  850556A01   \n",
       "341577  2022/09/16 23:57    1216195  84FDBD5D1  2213357  850556A01   \n",
       "341578  2022/09/16 23:57    3212631  85057D081  2211696  85057E351   \n",
       "\n",
       "        Amount Received Receiving Currency  Amount Paid Payment Currency  \\\n",
       "341574         0.992614            Bitcoin     0.992614          Bitcoin   \n",
       "341575         1.962109            Bitcoin     1.962109          Bitcoin   \n",
       "341576         0.149850            Bitcoin     0.149850          Bitcoin   \n",
       "341577         0.025608            Bitcoin     0.025608          Bitcoin   \n",
       "341578         0.019455            Bitcoin     0.019455          Bitcoin   \n",
       "\n",
       "       Payment Format  Is Laundering  \n",
       "341574        Bitcoin              0  \n",
       "341575        Bitcoin              0  \n",
       "341576        Bitcoin              0  \n",
       "341577        Bitcoin              0  \n",
       "341578        Bitcoin              0  "
      ]
     },
     "execution_count": 16,
     "metadata": {},
     "output_type": "execute_result"
    }
   ],
   "source": [
    "data = dd.read_csv(f'{f_name}.{f_type}')\n",
    "data.tail()"
   ]
  },
  {
   "cell_type": "code",
   "execution_count": 18,
   "metadata": {},
   "outputs": [
    {
     "data": {
      "text/html": [
       "<div>\n",
       "<style scoped>\n",
       "    .dataframe tbody tr th:only-of-type {\n",
       "        vertical-align: middle;\n",
       "    }\n",
       "\n",
       "    .dataframe tbody tr th {\n",
       "        vertical-align: top;\n",
       "    }\n",
       "\n",
       "    .dataframe thead th {\n",
       "        text-align: right;\n",
       "    }\n",
       "</style>\n",
       "<table border=\"1\" class=\"dataframe\">\n",
       "  <thead>\n",
       "    <tr style=\"text-align: right;\">\n",
       "      <th></th>\n",
       "      <th>dateRep</th>\n",
       "      <th>day</th>\n",
       "      <th>month</th>\n",
       "      <th>year</th>\n",
       "      <th>cases</th>\n",
       "      <th>deaths</th>\n",
       "      <th>countriesAndTerritories</th>\n",
       "      <th>geoId</th>\n",
       "      <th>countryterritoryCode</th>\n",
       "      <th>popData2019</th>\n",
       "      <th>continentExp</th>\n",
       "      <th>Cumulative_number_for_14_days_of_COVID-19_cases_per_100000</th>\n",
       "    </tr>\n",
       "  </thead>\n",
       "  <tbody>\n",
       "    <tr>\n",
       "      <th>270</th>\n",
       "      <td>18/03/2020</td>\n",
       "      <td>18</td>\n",
       "      <td>3</td>\n",
       "      <td>2020</td>\n",
       "      <td>1</td>\n",
       "      <td>0</td>\n",
       "      <td>Kenya</td>\n",
       "      <td>KE</td>\n",
       "      <td>KEN</td>\n",
       "      <td>52573967</td>\n",
       "      <td>Africa</td>\n",
       "      <td>NaN</td>\n",
       "    </tr>\n",
       "    <tr>\n",
       "      <th>271</th>\n",
       "      <td>17/03/2020</td>\n",
       "      <td>17</td>\n",
       "      <td>3</td>\n",
       "      <td>2020</td>\n",
       "      <td>0</td>\n",
       "      <td>0</td>\n",
       "      <td>Kenya</td>\n",
       "      <td>KE</td>\n",
       "      <td>KEN</td>\n",
       "      <td>52573967</td>\n",
       "      <td>Africa</td>\n",
       "      <td>NaN</td>\n",
       "    </tr>\n",
       "    <tr>\n",
       "      <th>272</th>\n",
       "      <td>16/03/2020</td>\n",
       "      <td>16</td>\n",
       "      <td>3</td>\n",
       "      <td>2020</td>\n",
       "      <td>2</td>\n",
       "      <td>0</td>\n",
       "      <td>Kenya</td>\n",
       "      <td>KE</td>\n",
       "      <td>KEN</td>\n",
       "      <td>52573967</td>\n",
       "      <td>Africa</td>\n",
       "      <td>NaN</td>\n",
       "    </tr>\n",
       "    <tr>\n",
       "      <th>273</th>\n",
       "      <td>15/03/2020</td>\n",
       "      <td>15</td>\n",
       "      <td>3</td>\n",
       "      <td>2020</td>\n",
       "      <td>0</td>\n",
       "      <td>0</td>\n",
       "      <td>Kenya</td>\n",
       "      <td>KE</td>\n",
       "      <td>KEN</td>\n",
       "      <td>52573967</td>\n",
       "      <td>Africa</td>\n",
       "      <td>NaN</td>\n",
       "    </tr>\n",
       "    <tr>\n",
       "      <th>274</th>\n",
       "      <td>14/03/2020</td>\n",
       "      <td>14</td>\n",
       "      <td>3</td>\n",
       "      <td>2020</td>\n",
       "      <td>1</td>\n",
       "      <td>0</td>\n",
       "      <td>Kenya</td>\n",
       "      <td>KE</td>\n",
       "      <td>KEN</td>\n",
       "      <td>52573967</td>\n",
       "      <td>Africa</td>\n",
       "      <td>NaN</td>\n",
       "    </tr>\n",
       "  </tbody>\n",
       "</table>\n",
       "</div>"
      ],
      "text/plain": [
       "        dateRep  day  month  year  cases  deaths countriesAndTerritories  \\\n",
       "270  18/03/2020   18      3  2020      1       0                   Kenya   \n",
       "271  17/03/2020   17      3  2020      0       0                   Kenya   \n",
       "272  16/03/2020   16      3  2020      2       0                   Kenya   \n",
       "273  15/03/2020   15      3  2020      0       0                   Kenya   \n",
       "274  14/03/2020   14      3  2020      1       0                   Kenya   \n",
       "\n",
       "    geoId countryterritoryCode  popData2019 continentExp  \\\n",
       "270    KE                  KEN     52573967       Africa   \n",
       "271    KE                  KEN     52573967       Africa   \n",
       "272    KE                  KEN     52573967       Africa   \n",
       "273    KE                  KEN     52573967       Africa   \n",
       "274    KE                  KEN     52573967       Africa   \n",
       "\n",
       "     Cumulative_number_for_14_days_of_COVID-19_cases_per_100000  \n",
       "270                                                NaN           \n",
       "271                                                NaN           \n",
       "272                                                NaN           \n",
       "273                                                NaN           \n",
       "274                                                NaN           "
      ]
     },
     "execution_count": 18,
     "metadata": {},
     "output_type": "execute_result"
    }
   ],
   "source": [
    "datas = dd.read_csv('covid.csv')\n",
    "datas.tail()"
   ]
  },
  {
   "cell_type": "code",
   "execution_count": 19,
   "metadata": {},
   "outputs": [
    {
     "name": "stdout",
     "output_type": "stream",
     "text": [
      "column name and column length validation failed\n",
      "Following File columns are not in the YAML file ['month', 'year', 'daterep', 'cases', 'countriesandterritories', 'geoid', 'countryterritorycode', 'popdata2019', 'continentexp', 'day', 'deaths', 'cumulative_number_for_14_days_of_covid_19_cases_per_100000']\n",
      "Following YAML columns are not in the file uploaded ['to_bank', 'account_1', 'amount_paid', 'payment_format', 'from_bank', 'receiving_currency', 'timestamp', 'payment_currency', 'amount_received', 'is_laundering', 'account']\n"
     ]
    },
    {
     "data": {
      "text/plain": [
       "0"
      ]
     },
     "execution_count": 19,
     "metadata": {},
     "output_type": "execute_result"
    }
   ],
   "source": [
    "util.col_header_val(datas, config_data)"
   ]
  },
  {
   "cell_type": "code",
   "execution_count": 20,
   "metadata": {},
   "outputs": [
    {
     "name": "stdout",
     "output_type": "stream",
     "text": [
      "column name and column length validation passed\n"
     ]
    },
    {
     "data": {
      "text/plain": [
       "1"
      ]
     },
     "execution_count": 20,
     "metadata": {},
     "output_type": "execute_result"
    }
   ],
   "source": [
    "util.col_header_val(data, config_data)"
   ]
  },
  {
   "cell_type": "code",
   "execution_count": 21,
   "metadata": {},
   "outputs": [],
   "source": [
    "import csv\n",
    "import gzip\n",
    "import os"
   ]
  },
  {
   "cell_type": "code",
   "execution_count": 22,
   "metadata": {},
   "outputs": [
    {
     "data": {
      "text/plain": [
       "Index(['timestamp', 'from_bank', 'account', 'to_bank', 'account_1',\n",
       "       'amount_received', 'receiving_currency', 'amount_paid',\n",
       "       'payment_currency', 'payment_format', 'is_laundering'],\n",
       "      dtype='object')"
      ]
     },
     "execution_count": 22,
     "metadata": {},
     "output_type": "execute_result"
    }
   ],
   "source": [
    "data.columns"
   ]
  },
  {
   "cell_type": "code",
   "execution_count": 23,
   "metadata": {},
   "outputs": [
    {
     "data": {
      "text/plain": [
       "['/Users/home/Medium_Trans.csv.gz/00.part',\n",
       " '/Users/home/Medium_Trans.csv.gz/01.part',\n",
       " '/Users/home/Medium_Trans.csv.gz/02.part',\n",
       " '/Users/home/Medium_Trans.csv.gz/03.part',\n",
       " '/Users/home/Medium_Trans.csv.gz/04.part',\n",
       " '/Users/home/Medium_Trans.csv.gz/05.part',\n",
       " '/Users/home/Medium_Trans.csv.gz/06.part',\n",
       " '/Users/home/Medium_Trans.csv.gz/07.part',\n",
       " '/Users/home/Medium_Trans.csv.gz/08.part',\n",
       " '/Users/home/Medium_Trans.csv.gz/09.part',\n",
       " '/Users/home/Medium_Trans.csv.gz/10.part',\n",
       " '/Users/home/Medium_Trans.csv.gz/11.part',\n",
       " '/Users/home/Medium_Trans.csv.gz/12.part',\n",
       " '/Users/home/Medium_Trans.csv.gz/13.part',\n",
       " '/Users/home/Medium_Trans.csv.gz/14.part',\n",
       " '/Users/home/Medium_Trans.csv.gz/15.part',\n",
       " '/Users/home/Medium_Trans.csv.gz/16.part',\n",
       " '/Users/home/Medium_Trans.csv.gz/17.part',\n",
       " '/Users/home/Medium_Trans.csv.gz/18.part',\n",
       " '/Users/home/Medium_Trans.csv.gz/19.part',\n",
       " '/Users/home/Medium_Trans.csv.gz/20.part',\n",
       " '/Users/home/Medium_Trans.csv.gz/21.part',\n",
       " '/Users/home/Medium_Trans.csv.gz/22.part',\n",
       " '/Users/home/Medium_Trans.csv.gz/23.part',\n",
       " '/Users/home/Medium_Trans.csv.gz/24.part',\n",
       " '/Users/home/Medium_Trans.csv.gz/25.part',\n",
       " '/Users/home/Medium_Trans.csv.gz/26.part',\n",
       " '/Users/home/Medium_Trans.csv.gz/27.part',\n",
       " '/Users/home/Medium_Trans.csv.gz/28.part',\n",
       " '/Users/home/Medium_Trans.csv.gz/29.part',\n",
       " '/Users/home/Medium_Trans.csv.gz/30.part',\n",
       " '/Users/home/Medium_Trans.csv.gz/31.part',\n",
       " '/Users/home/Medium_Trans.csv.gz/32.part',\n",
       " '/Users/home/Medium_Trans.csv.gz/33.part',\n",
       " '/Users/home/Medium_Trans.csv.gz/34.part',\n",
       " '/Users/home/Medium_Trans.csv.gz/35.part',\n",
       " '/Users/home/Medium_Trans.csv.gz/36.part',\n",
       " '/Users/home/Medium_Trans.csv.gz/37.part',\n",
       " '/Users/home/Medium_Trans.csv.gz/38.part',\n",
       " '/Users/home/Medium_Trans.csv.gz/39.part',\n",
       " '/Users/home/Medium_Trans.csv.gz/40.part',\n",
       " '/Users/home/Medium_Trans.csv.gz/41.part',\n",
       " '/Users/home/Medium_Trans.csv.gz/42.part',\n",
       " '/Users/home/Medium_Trans.csv.gz/43.part',\n",
       " '/Users/home/Medium_Trans.csv.gz/44.part',\n",
       " '/Users/home/Medium_Trans.csv.gz/45.part',\n",
       " '/Users/home/Medium_Trans.csv.gz/46.part']"
      ]
     },
     "execution_count": 23,
     "metadata": {},
     "output_type": "execute_result"
    }
   ],
   "source": [
    "# Write csv in gz format in pipe separated text file (|)\n",
    "data.to_csv('Medium_Trans.csv.gz',sep='|',compression='gzip')"
   ]
  },
  {
   "cell_type": "code",
   "execution_count": 24,
   "metadata": {},
   "outputs": [
    {
     "name": "stdout",
     "output_type": "stream",
     "text": [
      "File summary:\n",
      "Number of rows: 31251483\n",
      "Number of columns: 11\n",
      "File size: 1568 bytes\n"
     ]
    }
   ],
   "source": [
    "file_size = os.path.getsize('Medium_Trans.csv.gz')\n",
    "num_rows = len(data)\n",
    "num_cols = len(list(data.columns))\n",
    "\n",
    "# Print file summary\n",
    "print(\"File summary:\")\n",
    "print(f\"Number of rows: {num_rows}\")\n",
    "print(f\"Number of columns: {num_cols}\")\n",
    "print(f\"File size: {file_size} bytes\")"
   ]
  },
  {
   "cell_type": "code",
   "execution_count": 25,
   "metadata": {},
   "outputs": [
    {
     "data": {
      "text/plain": [
       "Index(['timestamp', 'from_bank', 'account', 'to_bank', 'account_1',\n",
       "       'amount_received', 'receiving_currency', 'amount_paid',\n",
       "       'payment_currency', 'payment_format', 'is_laundering'],\n",
       "      dtype='object')"
      ]
     },
     "execution_count": 25,
     "metadata": {},
     "output_type": "execute_result"
    }
   ],
   "source": [
    "data.columns"
   ]
  }
 ],
 "metadata": {
  "kernelspec": {
   "display_name": "Python 3 (ipykernel)",
   "language": "python",
   "name": "python3"
  },
  "language_info": {
   "codemirror_mode": {
    "name": "ipython",
    "version": 3
   },
   "file_extension": ".py",
   "mimetype": "text/x-python",
   "name": "python",
   "nbconvert_exporter": "python",
   "pygments_lexer": "ipython3",
   "version": "3.11.4"
  }
 },
 "nbformat": 4,
 "nbformat_minor": 4
}
